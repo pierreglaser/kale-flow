{
 "cells": [
  {
   "cell_type": "code",
   "execution_count": 1,
   "id": "e88bf8ef",
   "metadata": {},
   "outputs": [],
   "source": [
    "%load_ext autoreload\n",
    "%autoreload 2"
   ]
  },
  {
   "cell_type": "code",
   "execution_count": 2,
   "id": "b8e7f24c",
   "metadata": {},
   "outputs": [],
   "source": [
    "import logging\n",
    "import pandas as pd\n",
    "import numpy as np\n",
    "\n",
    "from kernel_wasserstein_flows.gradient_flow import gradient_flow\n",
    "from kernel_wasserstein_flows.utils import generate_XY_mog_square\n",
    "from kernel_wasserstein_flows.kernels import gaussian_kernel\n",
    "from kernel_wasserstein_flows.config import LOG_LEVELS\n",
    "import kernel_wasserstein_flows.gradient_flow as gf\n",
    "\n",
    "gf.MAX_TRAJECTORY_SNAPSHOTS = 1000\n",
    "LOG_LEVELS['gradient_flow'] = logging.INFO\n",
    "# LOG_LEVELS['kale.gradient_descent'] = logging.INFO\n",
    "# LOG_LEVELS['kale.optim.newton'] = logging.INFO"
   ]
  },
  {
   "cell_type": "markdown",
   "id": "821ff90f",
   "metadata": {},
   "source": [
    "# Run Gradient Flows"
   ]
  },
  {
   "cell_type": "code",
   "execution_count": 1,
   "id": "c444b80d",
   "metadata": {},
   "outputs": [],
   "source": [
    "results = {}"
   ]
  },
  {
   "cell_type": "code",
   "execution_count": 2,
   "id": "15160531",
   "metadata": {},
   "outputs": [],
   "source": [
    "import logging\n",
    "import pandas as pd\n",
    "import numpy as np\n",
    "\n",
    "from kernel_wasserstein_flows.gradient_flow import gradient_flow\n",
    "from kernel_wasserstein_flows.utils import generate_XY_mog_square\n",
    "from kernel_wasserstein_flows.kernels import gaussian_kernel\n",
    "from kernel_wasserstein_flows.config import LOG_LEVELS\n",
    "import kernel_wasserstein_flows.gradient_flow as gf\n",
    "\n",
    "gf.MAX_TRAJECTORY_SNAPSHOTS = 1000\n",
    "LOG_LEVELS['gradient_flow'] = logging.INFO\n",
    "# LOG_LEVELS['kale.gradient_descent'] = logging.INFO\n",
    "# LOG_LEVELS['kale.optim.newton'] = logging.INFO\""
   ]
  },
  {
   "cell_type": "code",
   "execution_count": 3,
   "id": "dd05cd6f",
   "metadata": {},
   "outputs": [],
   "source": [
    "_gf_default_kwargs = dict(\n",
    "    max_iter=50000,\n",
    "    lr=0.001,\n",
    "    random_seed=20,\n",
    "    num_noisy_averages=1,\n",
    "    generator=generate_XY_mog_square,\n",
    "    generator_kwargs=dict(N=240, d=2, dist=1.8, std=1/4, random_seed=42, y_std=0.2, y_rel_dist=0.1, return_potential_functions=False),\n",
    "    kernel=gaussian_kernel,\n",
    "    kernel_kwargs={'sigma': 0.5},\n",
    ")\n",
    "\n",
    "_kale_default_kwargs={\n",
    "    \"inner_max_iter\": 200,\n",
    "    \"inner_tol\": 1e-6,\n",
    "    \"inner_a\": 0.4,\n",
    "    \"inner_b\": 0.8,\n",
    "    \"inplace\": False,\n",
    "    \"input_check\":True,\n",
    "    \"dual_gap_tol\": 1e-3\n",
    "}"
   ]
  },
  {
   "cell_type": "code",
   "execution_count": 4,
   "id": "a1cf1ff0",
   "metadata": {},
   "outputs": [],
   "source": [
    "from kernel_wasserstein_flows.mmd import mmd, mmd_first_variation\n",
    "from kernel_wasserstein_flows.kale import kale_penalized, kale_penalized_first_variation\n",
    "# from kernel_wasserstein_flows.kale_torch import kale_penalized, kale_penalized_first_variation\n",
    "\n",
    "cases = [\n",
    "    (\"mmd\", mmd, mmd_first_variation, {}, lambda x:1e-10),\n",
    "    (\"kale_10000\", kale_penalized, kale_penalized_first_variation, {'lambda_': 10000, **_kale_default_kwargs}, lambda x:1e-10),\n",
    "    (\"kale_01\", kale_penalized, kale_penalized_first_variation, {'lambda_': 0.1, **_kale_default_kwargs}, lambda x:1e-10),\n",
    "    (\"kale_01_noise_injection\", kale_penalized, kale_penalized_first_variation, {'lambda_': 0.1, **_kale_default_kwargs}, lambda x:3e-1),\n",
    "    (\"kale_0001\", kale_penalized, kale_penalized_first_variation, {'lambda_': 0.001, **_kale_default_kwargs}, lambda x:1e-10)\n",
    "]"
   ]
  },
  {
   "cell_type": "code",
   "execution_count": 5,
   "id": "381cef75",
   "metadata": {},
   "outputs": [
    {
     "name": "stderr",
     "output_type": "stream",
     "text": [
      " gradient_flow: X.requires_grad: False, Y.requires_grad: True\n",
      " gradient_flow: loss: 2.78e-01 grad_norm: 8.48e+00\n",
      " gradient_flow: loss: 6.00e-02 grad_norm: 1.48e+00\n",
      " gradient_flow: loss: 3.79e-02 grad_norm: 7.54e-01\n",
      " gradient_flow: loss: 2.90e-02 grad_norm: 4.62e-01\n",
      " gradient_flow: loss: 2.58e-02 grad_norm: 3.86e-01\n",
      " gradient_flow: loss: 2.22e-02 grad_norm: 3.61e-01\n",
      " gradient_flow: loss: 2.03e-02 grad_norm: 2.83e-01\n",
      " gradient_flow: loss: 1.89e-02 grad_norm: 2.81e-01\n",
      " gradient_flow: loss: 1.72e-02 grad_norm: 3.07e-01\n",
      " gradient_flow: loss: 1.48e-02 grad_norm: 3.48e-01\n",
      " gradient_flow: X.requires_grad: False, Y.requires_grad: True\n",
      " gradient_flow: loss: 2.78e-01 grad_norm: 8.48e+00\n",
      " gradient_flow: loss: 6.00e-02 grad_norm: 1.48e+00\n",
      " gradient_flow: loss: 3.79e-02 grad_norm: 7.54e-01\n",
      " gradient_flow: loss: 2.90e-02 grad_norm: 4.62e-01\n",
      " gradient_flow: loss: 2.58e-02 grad_norm: 3.86e-01\n",
      " gradient_flow: loss: 2.22e-02 grad_norm: 3.60e-01\n",
      " gradient_flow: loss: 2.03e-02 grad_norm: 2.83e-01\n",
      " gradient_flow: loss: 1.89e-02 grad_norm: 2.81e-01\n",
      " gradient_flow: loss: 1.72e-02 grad_norm: 3.08e-01\n",
      " gradient_flow: loss: 1.48e-02 grad_norm: 3.48e-01\n",
      " gradient_flow: X.requires_grad: False, Y.requires_grad: True\n",
      " gradient_flow: loss: 1.12e+00 grad_norm: 4.31e+01\n",
      " gradient_flow: loss: 1.25e-01 grad_norm: 2.27e+00\n",
      " gradient_flow: loss: 5.78e-02 grad_norm: 1.38e+00\n",
      " gradient_flow: loss: 3.21e-02 grad_norm: 9.19e-01\n",
      " gradient_flow: loss: 2.00e-02 grad_norm: 6.14e-01\n",
      " gradient_flow: loss: 1.41e-02 grad_norm: 4.06e-01\n",
      " gradient_flow: loss: 1.04e-02 grad_norm: 3.96e-01\n",
      " gradient_flow: loss: 8.47e-03 grad_norm: 2.25e-01\n",
      " gradient_flow: loss: 7.43e-03 grad_norm: 2.27e-01\n",
      " gradient_flow: loss: 6.55e-03 grad_norm: 1.64e-01\n",
      " gradient_flow: X.requires_grad: False, Y.requires_grad: True\n",
      " gradient_flow: loss: 1.12e+00 grad_norm: 4.16e+01\n",
      " gradient_flow: loss: 1.12e-01 grad_norm: 3.52e+00\n",
      " gradient_flow: loss: 4.86e-02 grad_norm: 2.36e+00\n",
      " gradient_flow: loss: 2.37e-02 grad_norm: 1.53e+00\n",
      " gradient_flow: loss: 1.46e-02 grad_norm: 1.01e+00\n",
      " gradient_flow: loss: 9.98e-03 grad_norm: 9.53e-01\n",
      " gradient_flow: loss: 8.02e-03 grad_norm: 8.67e-01\n",
      " gradient_flow: loss: 6.61e-03 grad_norm: 7.50e-01\n",
      " gradient_flow: loss: 5.61e-03 grad_norm: 6.08e-01\n",
      " gradient_flow: loss: 5.03e-03 grad_norm: 5.33e-01\n",
      " gradient_flow: X.requires_grad: False, Y.requires_grad: True\n",
      " gradient_flow: loss: 1.93e+00 grad_norm: 9.25e+01\n",
      " gradient_flow: loss: 5.56e-01 grad_norm: 4.46e+00\n",
      " gradient_flow: loss: 2.56e-01 grad_norm: 2.70e+00\n",
      " gradient_flow: loss: 1.35e-01 grad_norm: 2.15e+00\n",
      " gradient_flow: loss: 7.37e-02 grad_norm: 1.71e+00\n",
      " gradient_flow: loss: 4.60e-02 grad_norm: 1.04e+00\n",
      " gradient_flow: loss: 2.71e-02 grad_norm: 7.27e-01\n",
      " gradient_flow: loss: 1.82e-02 grad_norm: 5.13e-01\n",
      " gradient_flow: loss: 1.16e-02 grad_norm: 3.71e-01\n",
      " gradient_flow: loss: 7.60e-03 grad_norm: 4.68e-01\n"
     ]
    }
   ],
   "source": [
    "results = {}\n",
    "for name, loss, loss_first_var, loss_kwargs, noise_injection_callback in cases:\n",
    "    args, (X, Y), (trajectories, records, loss_states) = gradient_flow(\n",
    "        loss=loss, loss_first_variation=loss_first_var, loss_kwargs=loss_kwargs, noise_level_callback=noise_injection_callback, **_gf_default_kwargs\n",
    "    )\n",
    "    results[name] = {'args': args, 'X': X, 'Y': Y, 'trajectories': trajectories, 'records': records, 'loss_states': loss_states}"
   ]
  },
  {
   "cell_type": "code",
   "execution_count": 6,
   "id": "07405f4f",
   "metadata": {},
   "outputs": [],
   "source": [
    "# uncomment lines below in this cell to view an interactive visualisation of the computed flows\n",
    "# from kernel_wasserstein_flows.plotting  import vizualize_results\n",
    "# from kernel_wasserstein_flows.utils  import compute_velocity_field\n",
    "# \n",
    "# %matplotlib ipympl\n",
    "# \n",
    "# _exp_name = \"kale_01\"\n",
    "# \n",
    "# args, X, Y, trajectories, records, loss_states =  results[_exp_name]['args'], results[_exp_name]['X'], results[_exp_name]['Y'], results[_exp_name]['trajectories'], results[_exp_name]['records'], results[_exp_name]['loss_states']\n",
    "# \n",
    "# if args['generator_kwargs'].get('d') == 2:\n",
    "#     vs = compute_velocity_field(\n",
    "#         X, trajectories,\n",
    "#         args['kernel'], args['kernel_kwargs'], args['loss'], args['loss_kwargs'],\n",
    "#         args['loss_first_variation'], loss_states\n",
    "#     )\n",
    "# else:\n",
    "#     vs = None\n",
    "# vizualize_results(X, Y, trajectories, pd.json_normalize(records), _exp_name, metrics_subset=['loss'],\n",
    "#                   velocities=vs)"
   ]
  },
  {
   "cell_type": "code",
   "execution_count": 8,
   "id": "a02763c3",
   "metadata": {},
   "outputs": [],
   "source": [
    "from kernel_wasserstein_flows.extras import unadjusted_langevin_algorithm\n",
    "\n",
    "args, (X, Y), (trajectories, records, loss_states) = unadjusted_langevin_algorithm(\n",
    "    max_iter=50000,\n",
    "    lr=0.001,\n",
    "    random_seed=42,\n",
    "    generator=generate_XY_mog_square,\n",
    "    generator_kwargs=dict(N=240, d=2, dist=1.8, std=1/4, random_seed=42, y_std=0.2, y_rel_dist=0.1, return_potential_functions=True),\n",
    ")\n",
    "results['kl'] = {'args': args, 'X': X, 'Y': Y, 'trajectories': trajectories[::50], 'records': records, 'loss_states': loss_states}"
   ]
  },
  {
   "cell_type": "code",
   "execution_count": 9,
   "id": "9238db63",
   "metadata": {},
   "outputs": [],
   "source": [
    "# vizualize_results(X, Y, trajectories, None, None, metrics_subset=[],velocities=None)"
   ]
  },
  {
   "cell_type": "markdown",
   "id": "21c4f342",
   "metadata": {},
   "source": [
    "# Compare Gradient Flows Trajectories via Sinkhorn Divergence"
   ]
  },
  {
   "cell_type": "code",
   "execution_count": 10,
   "id": "e4210fb2",
   "metadata": {},
   "outputs": [
    {
     "name": "stdout",
     "output_type": "stream",
     "text": [
      "('kl', 'mmd')\n",
      "('kl', 'kale_0001')\n"
     ]
    },
    {
     "name": "stderr",
     "output_type": "stream",
     "text": [
      "/Users/pierreglaser/.local/miniforge/envs/kale-flow/lib/python3.8/site-packages/ot/bregman.py:517: UserWarning: Sinkhorn did not converge. You might want to increase the number of iterations `numItermax` or the regularization parameter `reg`.\n",
      "  warnings.warn(\"Sinkhorn did not converge. You might want to \"\n"
     ]
    },
    {
     "name": "stdout",
     "output_type": "stream",
     "text": [
      "('kl', 'kale_01')\n",
      "('kl', 'kale_10000')\n",
      "('mmd', 'kl')\n",
      "('mmd', 'kale_0001')\n",
      "('mmd', 'kale_01')\n",
      "('mmd', 'kale_10000')\n"
     ]
    }
   ],
   "source": [
    "import ot\n",
    "import numpy as np\n",
    "all_sinkhorn_distances = {}\n",
    "\n",
    "couples_kl = (('kl', 'mmd'), ('kl', 'kale_0001'), ('kl', 'kale_01'), ('kl', 'kale_10000'))\n",
    "couples_mmd = (('mmd', 'kl'), ('mmd', 'kale_0001'), ('mmd', 'kale_01'), ('mmd', 'kale_10000'))\n",
    "\n",
    "i = 0\n",
    "for reference_div, couples in zip(('kl', 'mmd'), (couples_kl, couples_mmd)):\n",
    "    sinkhorn_distances_reference_div = {}\n",
    "    for couple in couples:\n",
    "        print(couple)\n",
    "        sinkhorn_dists = []\n",
    "        div1, div2 = couple\n",
    "        for (_Y1, _Y2) in zip(\n",
    "            results[div1]['trajectories'][::10],\n",
    "            results[div2]['trajectories'][::10]\n",
    "        ):\n",
    "            _X1 = results[div1]['X']\n",
    "            _X2 = results[div2]['X']\n",
    "\n",
    "            _M =  ((_Y1[:, None, :] - _Y2[None, :, :])**2).sum(axis=2)\n",
    "            ret =ot.sinkhorn(\n",
    "                1/len(_Y1) * np.ones((len(_Y1),)), 1/len(_Y2) * np.ones((len(_Y2),)), _M, reg=0.2\n",
    "            )\n",
    "            sinkhorn_dists.append((ret * _M).sum())\n",
    "        sinkhorn_distances_reference_div[couple] = sinkhorn_dists\n",
    "    all_sinkhorn_distances[reference_div] = sinkhorn_distances_reference_div\n"
   ]
  },
  {
   "cell_type": "code",
   "execution_count": 22,
   "id": "e5abf31f",
   "metadata": {},
   "outputs": [
    {
     "data": {
      "text/plain": [
       "Text(0.5, 1.0, 'KALE')"
      ]
     },
     "execution_count": 22,
     "metadata": {},
     "output_type": "execute_result"
    },
    {
     "data": {
      "image/png": "[encoded data removed]",
      "text/plain": [
       "<Figure size 1080x360 with 3 Axes>"
      ]
     },
     "metadata": {
      "needs_background": "light"
     },
     "output_type": "display_data"
    }
   ],
   "source": [
    "import matplotlib.pyplot as plt\n",
    "from matplotlib import rc\n",
    "\n",
    "f, axs = plt.subplots(ncols=3, figsize=(15, 5))\n",
    "\n",
    "for ax, _ref_div_name in zip(axs, ('mmd', 'kl')):\n",
    "    for exp_name in results.keys():\n",
    "        if exp_name in ('kl', 'mmd', 'kale_01_noise_injection'):\n",
    "            continue\n",
    "        iterations = [i * 500 for i in range(len(all_sinkhorn_distances[_ref_div_name][(_ref_div_name,exp_name)]))]\n",
    "        ax.plot(iterations, all_sinkhorn_distances[_ref_div_name][(_ref_div_name,exp_name)], label=exp_name)\n",
    "    ax.legend(loc='lower left')\n",
    "    ax.set_xlabel('Iteration')\n",
    "    ax.set_title(f'Distance to {_ref_div_name.upper()}')\n",
    "    \n",
    "axs[-1].plot([r['loss'] for r in results['kale_01']['records']], label='no noise injection')\n",
    "axs[-1].plot([r['loss'] for r in results['kale_01_noise_injection']['records']], label='noise injection')\n",
    "axs[-1].set_yscale('log')\n",
    "axs[-1].set_xlabel('Iteration')\n",
    "axs[-1].legend()\n",
    "axs[-1].set_title('KALE')"
   ]
  }
 ],
 "metadata": {
  "kernelspec": {
   "display_name": "kale-flow",
   "language": "python",
   "name": "kale-flow"
  },
  "language_info": {
   "codemirror_mode": {
    "name": "ipython",
    "version": 3
   },
   "file_extension": ".py",
   "mimetype": "text/x-python",
   "name": "python",
   "nbconvert_exporter": "python",
   "pygments_lexer": "ipython3",
   "version": "3.8.11"
  }
 },
 "nbformat": 4,
 "nbformat_minor": 5
}
