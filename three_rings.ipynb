{
 "cells": [
  {
   "cell_type": "code",
   "execution_count": 1,
   "id": "9d2dc857",
   "metadata": {},
   "outputs": [],
   "source": [
    "%load_ext autoreload\n",
    "%autoreload 2"
   ]
  },
  {
   "cell_type": "code",
   "execution_count": 2,
   "id": "5dc4d5f9",
   "metadata": {},
   "outputs": [],
   "source": [
    "import logging \n",
    "import pandas as pd\n",
    "import torch\n",
    "import numpy as np\n",
    "import matplotlib.pyplot as plt"
   ]
  },
  {
   "cell_type": "code",
   "execution_count": 3,
   "id": "2a83352a",
   "metadata": {},
   "outputs": [],
   "source": [
    "from kernel_wasserstein_flows.gradient_flow import gradient_flow\n",
    "from kernel_wasserstein_flows.kernels import gaussian_kernel\n",
    "from kernel_wasserstein_flows.config import LOG_LEVELS\n",
    "LOG_LEVELS['gradient_flow'] = logging.INFO"
   ]
  },
  {
   "cell_type": "code",
   "execution_count": 4,
   "id": "840b9fea",
   "metadata": {},
   "outputs": [],
   "source": [
    "def _generate_data():\n",
    "    N, r, _delta = 80, 0.3, 0.5\n",
    "    \n",
    "    X = np.c_[r * np.cos(np.linspace(0, 2 * np.pi, N + 1)), r * np.sin(np.linspace(0, 2 * np.pi, N + 1))][:-1]  # noqa\n",
    "    for i in [1, 2]:\n",
    "        X = np.r_[X, X[:N, :]-i*np.array([0, (2 + _delta) * r])]\n",
    "\n",
    "    rs = np.random.RandomState(42)\n",
    "    Y = rs.randn(N*(2+1), 2) / 100 - np.array([r/np.sqrt(2), r/np.sqrt(2)])\n",
    "    Y = rs.randn(N*(2+1), 2) / 100 - np.array([0, r])\n",
    "\n",
    "    Y = torch.from_numpy(Y).float()\n",
    "    X = torch.from_numpy(X).float()\n",
    "    Y.requires_grad = True\n",
    "    return X, Y"
   ]
  },
  {
   "cell_type": "code",
   "execution_count": 5,
   "id": "f8b91823",
   "metadata": {},
   "outputs": [],
   "source": [
    "from kernel_wasserstein_flows.kale import kale_penalized, kale_penalized_first_variation\n",
    "def _gen():\n",
    "    return X, Y\n",
    "\n",
    "_gf_default_kwargs = dict(\n",
    "    max_iter=50000,\n",
    "    random_seed=20,\n",
    "    noise_level_callback=lambda x: 1e-10,\n",
    "    num_noisy_averages=1,\n",
    "    generator=_gen,\n",
    "    generator_kwargs=dict(),\n",
    "    kernel=gaussian_kernel,\n",
    "    kernel_kwargs={'sigma': 0.1},\n",
    "    loss=kale_penalized,\n",
    "    loss_first_variation=kale_penalized_first_variation\n",
    ")\n",
    "\n",
    "_kale_default_kwargs = {\n",
    "    \"inner_max_iter\": 800,\n",
    "    \"inner_tol\": 1e-6,\n",
    "    \"inner_a\": 0.4,\n",
    "    \"inner_b\": 0.8,\n",
    "    \"inplace\": False,\n",
    "    \"input_check\":True,\n",
    "    \"dual_gap_tol\": 1e-2,\n",
    "    \"optimization_method\":\"newton\",\n",
    "}"
   ]
  },
  {
   "cell_type": "code",
   "execution_count": 6,
   "id": "7068f46b",
   "metadata": {},
   "outputs": [],
   "source": [
    "results = {}"
   ]
  },
  {
   "cell_type": "code",
   "execution_count": 7,
   "id": "201fa973",
   "metadata": {},
   "outputs": [
    {
     "name": "stderr",
     "output_type": "stream",
     "text": [
      " gradient_flow: X.requires_grad: False, Y.requires_grad: True\n",
      " gradient_flow: loss: 3.66e+00 grad_norm: 1.98e+02\n",
      " gradient_flow: loss: 1.04e-01 grad_norm: 8.34e+00\n",
      " gradient_flow: loss: 2.83e-02 grad_norm: 3.92e+00\n",
      " gradient_flow: loss: 8.86e-03 grad_norm: 2.10e+00\n",
      " gradient_flow: loss: 3.02e-03 grad_norm: 1.07e+00\n",
      " gradient_flow: loss: 1.23e-03 grad_norm: 8.15e-01\n",
      " gradient_flow: loss: 5.23e-04 grad_norm: 3.88e-01\n",
      " gradient_flow: loss: 2.70e-04 grad_norm: 2.57e-01\n",
      " gradient_flow: loss: 1.32e-04 grad_norm: 1.36e-01\n",
      " gradient_flow: loss: 3.45e-05 grad_norm: 5.17e-02\n",
      " gradient_flow: X.requires_grad: False, Y.requires_grad: True\n",
      " gradient_flow: loss: 3.87e-01 grad_norm: 4.16e+00\n"
     ]
    },
    {
     "name": "stdout",
     "output_type": "stream",
     "text": [
      "total time 512.821s\n"
     ]
    },
    {
     "name": "stderr",
     "output_type": "stream",
     "text": [
      " gradient_flow: loss: 6.33e-03 grad_norm: 6.58e-01\n",
      " gradient_flow: loss: 1.94e-03 grad_norm: 3.08e-01\n",
      " gradient_flow: loss: 7.94e-04 grad_norm: 1.70e-01\n",
      " gradient_flow: loss: 4.30e-04 grad_norm: 9.88e-02\n",
      " gradient_flow: loss: 2.97e-04 grad_norm: 6.36e-02\n",
      " gradient_flow: loss: 2.36e-04 grad_norm: 4.55e-02\n",
      " gradient_flow: loss: 2.02e-04 grad_norm: 3.64e-02\n",
      " gradient_flow: loss: 1.80e-04 grad_norm: 2.84e-02\n",
      " gradient_flow: loss: 1.67e-04 grad_norm: 2.12e-02\n"
     ]
    },
    {
     "name": "stdout",
     "output_type": "stream",
     "text": [
      "total time 490.888s\n"
     ]
    }
   ],
   "source": [
    "import time \n",
    "import numpy as np\n",
    "import torch\n",
    "\n",
    "for _lambda_, lr, exp_name in zip([0.001, 10000], [0.0001, 0.001], ['kale_0001', 'kale_10000']):\n",
    "    t0 = time.time()\n",
    "    X, Y = _generate_data()\n",
    "    args, (X, Y), (trajectories, records, loss_states) = gradient_flow(lr=lr, loss_kwargs={**_kale_default_kwargs, 'lambda_': _lambda_}, **_gf_default_kwargs)\n",
    "    print(f'total time {time.time() - t0:.3f}s')\n",
    "    results[exp_name] = { \n",
    "        'args': args,\n",
    "        'X': X,\n",
    "        'Y': Y,\n",
    "        'trajectories': trajectories,\n",
    "        'records': records,\n",
    "        'loss_states': loss_states\n",
    "    }"
   ]
  },
  {
   "cell_type": "code",
   "execution_count": 8,
   "id": "80c91912",
   "metadata": {},
   "outputs": [],
   "source": [
    "# uncomment lines below in this cell to view an interactive visualisation of the computed flows\n",
    "# from kernel_wasserstein_flows.plotting import vizualize_results\n",
    "# %matplotlib ipympl\n",
    "# \n",
    "# exp_name = 'kale_0001'\n",
    "# if args['generator_kwargs'].get('d') == 2:\n",
    "#     vs = compute_velocity_field(\n",
    "#         X, trajectories,\n",
    "#         results[exp_name]['args']['kernel'], results[exp_name]['args']['kernel_kwargs'], results[exp_name]['args']['loss'], results[exp_name]['args']['loss_kwargs'],\n",
    "#         results[exp_name]['args']['loss_first_variation'], results[exp_name]['loss_states']\n",
    "#     )\n",
    "# else:\n",
    "#     vs = None\n",
    "# vizualize_results(results[exp_name]['X'], results[exp_name]['Y'], results[exp_name]['trajectories'], pd.json_normalize(results[exp_name]['records']), \"MMD\", metrics_subset=['loss'],\n",
    "#                   velocities=vs)"
   ]
  },
  {
   "cell_type": "code",
   "execution_count": 9,
   "id": "a7f98678",
   "metadata": {},
   "outputs": [
    {
     "data": {
      "image/png": "[encoded data removed]",
      "text/plain": [
       "<Figure size 1080x360 with 8 Axes>"
      ]
     },
     "metadata": {
      "needs_background": "light"
     },
     "output_type": "display_data"
    }
   ],
   "source": [
    "f, axs = plt.subplots(nrows=2, ncols=4, figsize=(15, 5))\n",
    "    \n",
    "iters = [0, 2, 30, 99]\n",
    "for axs_row, div, pretty_name in zip(axs, (\"kale_0001\", \"kale_10000\"), ('KALE', 'MMD')):\n",
    "    axs_row[0].text(-0.1, 0.5, pretty_name, size=20, transform=axs_row[0].transAxes, horizontalalignment='right')\n",
    "    for ax, iter_no in zip(axs_row, iters):\n",
    "        if pretty_name == \"KALE\":\n",
    "            ax.set_title(f'T={iter_no}')\n",
    "            \n",
    "        ax.set_xlim([-1.9, 0.4])\n",
    "        ax.set_ylim([-0.8, 0.8])\n",
    "        ax.scatter(results[div]['X'][:, 1], results[div]['X'][:, 0])\n",
    "        ax.scatter(results[div]['trajectories'][iter_no, :, 1], results[div]['trajectories'][iter_no, :, 0])\n",
    "        ax.axis('off')"
   ]
  },
  {
   "cell_type": "code",
   "execution_count": 10,
   "id": "dae3ad11",
   "metadata": {},
   "outputs": [],
   "source": [
    "# uncomment lines below in this cell to view an animation of the computed flows\n",
    "\n",
    "# import os\n",
    "# import numpy as np\n",
    "# from mpl_toolkits.mplot3d import Axes3D\n",
    "# import matplotlib.pyplot as plt\n",
    "# from matplotlib.animation import FuncAnimation\n",
    "# import matplotlib.animation as animation\n",
    "# from IPython.display import HTML\n",
    "# \n",
    "# %matplotlib ipympl\n",
    "# \n",
    "# def _has_ffmpeg():\n",
    "#     # XXX: only works on unix\n",
    "#     return os.system(\"which ffmpeg\") == 0\n",
    "# \n",
    "# SHOW_ANIMATION=True\n",
    "# exp_name = 'kale_0001'\n",
    "# \n",
    "# if _has_ffmpeg() and SHOW_ANIMATION:\n",
    "#     def update(frame):\n",
    "#         _animate_scatter.set_offsets(results[exp_name]['trajectories'][frame][:, ::-1])\n",
    "#         return (_animate_scatter,)\n",
    "# \n",
    "#     # create initial plot\n",
    "#     animate_fig, animate_ax = plt.subplots()\n",
    "#     animate_fig.patch.set_alpha(0.)\n",
    "#     plt.axis('off')\n",
    "#     # animate_ax.scatter(Ys[:, 0], Ys[:, 1])\n",
    "#     animate_ax.set_xlim(-2, 1)\n",
    "#     animate_ax.set_ylim(-1, 1)\n",
    "#     \n",
    "#     # awkard way to share state for now\n",
    "#     animate_ax.scatter(results[exp_name]['X'][:, 1], results[exp_name]['X'][:, 0])\n",
    "#     _animate_scatter = animate_ax.scatter(results[exp_name]['trajectories'][0][:, 1], results[exp_name]['trajectories'][0][:, 0])\n",
    "# \n",
    "#     ani_kale = FuncAnimation(\n",
    "#         animate_fig,\n",
    "#         update,\n",
    "#         frames=list(range(0, 100)),\n",
    "#         # init_func=init,\n",
    "#         # blit=True,\n",
    "#         interval=20,\n",
    "#     )\n",
    "#     HTML(ani_kale.to_html5_video())"
   ]
  }
 ],
 "metadata": {
  "jupytext": {
   "formats": "ipynb,md"
  },
  "kernelspec": {
   "display_name": "kale-flow",
   "language": "python",
   "name": "kale-flow"
  },
  "language_info": {
   "codemirror_mode": {
    "name": "ipython",
    "version": 3
   },
   "file_extension": ".py",
   "mimetype": "text/x-python",
   "name": "python",
   "nbconvert_exporter": "python",
   "pygments_lexer": "ipython3",
   "version": "3.8.11"
  }
 },
 "nbformat": 4,
 "nbformat_minor": 5
}
